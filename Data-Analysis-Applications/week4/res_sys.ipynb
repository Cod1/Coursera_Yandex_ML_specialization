{
 "cells": [
  {
   "cell_type": "code",
   "execution_count": 1,
   "metadata": {
    "collapsed": true
   },
   "outputs": [],
   "source": [
    "import re\n",
    "import pandas as pd\n",
    "import numpy as np\n",
    "\n",
    "from operator import itemgetter\n",
    "from collections import OrderedDict"
   ]
  },
  {
   "cell_type": "code",
   "execution_count": 2,
   "metadata": {},
   "outputs": [],
   "source": [
    "idsViewFreq = {}\n",
    "idsBoughtFreq = {}\n",
    "with open('coursera_sessions_train.txt', 'r') as file:\n",
    "    for line in file.readlines():\n",
    "        view = line.split(';')[0]\n",
    "        b = line.split(';')[1]\n",
    "        view = re.sub('[^\\w]', ' ', view)\n",
    "        b = re.sub('[^\\w]', ' ', b)\n",
    "        view = view.split()\n",
    "        b = b.split()\n",
    "        if(len(view) > 0):\n",
    "            for i in view:\n",
    "                if(i not in idsViewFreq.keys()):\n",
    "                    idsViewFreq[i] = 0\n",
    "                idsViewFreq[i] += 1\n",
    "        if(len(b) > 0):\n",
    "            for i in b:\n",
    "                if(i not in idsBoughtFreq.keys()):\n",
    "                    idsBoughtFreq[i] = 0\n",
    "                idsBoughtFreq[i] += 1"
   ]
  },
  {
   "cell_type": "code",
   "execution_count": 3,
   "metadata": {},
   "outputs": [],
   "source": [
    "idsViewFreq = sorted(idsViewFreq.items(), key=itemgetter(1), reverse=True)\n",
    "idsBoughtFreq = sorted(idsBoughtFreq.items(), key=itemgetter(1), reverse=True)"
   ]
  },
  {
   "cell_type": "code",
   "execution_count": null,
   "metadata": {},
   "outputs": [],
   "source": []
  },
  {
   "cell_type": "code",
   "execution_count": 27,
   "metadata": {
    "collapsed": true
   },
   "outputs": [],
   "source": [
    "def precision_recall(true, pred, k):\n",
    "    cnt = len(set(true).intersection(set(pred)))\n",
    "    precision = cnt / k\n",
    "    recall = cnt / len(true)\n",
    "    return (precision, recall)"
   ]
  },
  {
   "cell_type": "code",
   "execution_count": null,
   "metadata": {
    "collapsed": true
   },
   "outputs": [],
   "source": []
  },
  {
   "cell_type": "code",
   "execution_count": 28,
   "metadata": {
    "collapsed": true
   },
   "outputs": [],
   "source": [
    "train_view = []\n",
    "train_bought = []\n",
    "test_view = []\n",
    "test_bought = []\n",
    "with open('coursera_sessions_train.txt', 'r') as file:\n",
    "    for line in file.readlines():\n",
    "        view = line.split(';')[0]\n",
    "        b = line.split(';')[1]\n",
    "        view = re.sub('[^\\w]', ' ', view)\n",
    "        b = re.sub('[^\\w]', ' ', b)\n",
    "        view = view.split()\n",
    "        b = b.split()\n",
    "        train_view.append(view)\n",
    "        train_bought.append(b)\n",
    "        \n",
    "with open('coursera_sessions_test.txt', 'r') as file:\n",
    "    for line in file.readlines():\n",
    "        view = line.split(';')[0]\n",
    "        b = line.split(';')[1]\n",
    "        view = re.sub('[^\\w]', ' ', view)\n",
    "        b = re.sub('[^\\w]', ' ', b)\n",
    "        view = view.split()\n",
    "        b = b.split()\n",
    "        test_view.append(view)\n",
    "        test_bought.append(b)"
   ]
  },
  {
   "cell_type": "code",
   "execution_count": null,
   "metadata": {
    "collapsed": true
   },
   "outputs": [],
   "source": []
  },
  {
   "cell_type": "code",
   "execution_count": 42,
   "metadata": {
    "scrolled": false
   },
   "outputs": [],
   "source": [
    "prec = []\n",
    "rec = []\n",
    "for i in range(len(train_view)):\n",
    "    view = train_view[i]\n",
    "    b = train_bought[i]\n",
    "    \n",
    "    if(b == []):\n",
    "        continue\n",
    "    precision, recall = precision_recall(b, idsBoughtFreq[0][0], 1)\n",
    "    \n",
    "    prec.append(precision)\n",
    "    rec.append(recall)"
   ]
  },
  {
   "cell_type": "code",
   "execution_count": 43,
   "metadata": {},
   "outputs": [
    {
     "data": {
      "text/plain": [
       "0.0011086474501108647"
      ]
     },
     "execution_count": 43,
     "metadata": {},
     "output_type": "execute_result"
    }
   ],
   "source": [
    "np.mean(prec)"
   ]
  },
  {
   "cell_type": "code",
   "execution_count": 44,
   "metadata": {},
   "outputs": [
    {
     "data": {
      "text/plain": [
       "0.0011086474501108647"
      ]
     },
     "execution_count": 44,
     "metadata": {},
     "output_type": "execute_result"
    }
   ],
   "source": [
    "np.mean(rec)"
   ]
  },
  {
   "cell_type": "code",
   "execution_count": null,
   "metadata": {
    "collapsed": true
   },
   "outputs": [],
   "source": []
  }
 ],
 "metadata": {
  "kernelspec": {
   "display_name": "Python3 (ml)",
   "language": "python",
   "name": "ml"
  },
  "language_info": {
   "codemirror_mode": {
    "name": "ipython",
    "version": 3
   },
   "file_extension": ".py",
   "mimetype": "text/x-python",
   "name": "python",
   "nbconvert_exporter": "python",
   "pygments_lexer": "ipython3",
   "version": "3.6.0"
  }
 },
 "nbformat": 4,
 "nbformat_minor": 2
}
