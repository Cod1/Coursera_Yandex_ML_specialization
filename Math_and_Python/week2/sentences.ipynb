{
 "cells": [
  {
   "cell_type": "code",
   "execution_count": 1,
   "metadata": {
    "collapsed": true
   },
   "outputs": [],
   "source": [
    "import re\n",
    "import pandas as pd\n",
    "import numpy as np\n",
    "from scipy.spatial.distance import cosine\n",
    "from operator import itemgetter"
   ]
  },
  {
   "cell_type": "code",
   "execution_count": 2,
   "metadata": {
    "collapsed": false
   },
   "outputs": [],
   "source": [
    "file = open('sentences.txt', 'r')\n",
    "words = {}\n",
    "sentences = []\n",
    "for line in file:\n",
    "    line = re.sub(r'[0123456789!\"#$%&\\'()*+,-./:;<=>?@]', ' ', line.lower().rstrip()).split()\n",
    "    for w in line:\n",
    "        if(w not in words.keys()):\n",
    "            words[w] = len(words)\n",
    "    sentences.append(line)\n",
    "file.close()"
   ]
  },
  {
   "cell_type": "code",
   "execution_count": 3,
   "metadata": {
    "collapsed": false
   },
   "outputs": [
    {
     "data": {
      "text/plain": [
       "254"
      ]
     },
     "execution_count": 3,
     "metadata": {},
     "output_type": "execute_result"
    }
   ],
   "source": [
    "len(words)"
   ]
  },
  {
   "cell_type": "code",
   "execution_count": 4,
   "metadata": {
    "collapsed": true
   },
   "outputs": [],
   "source": [
    "mat = np.zeros(shape=(len(sentences), len(words)))"
   ]
  },
  {
   "cell_type": "code",
   "execution_count": 5,
   "metadata": {
    "collapsed": false
   },
   "outputs": [
    {
     "data": {
      "text/plain": [
       "(22, 254)"
      ]
     },
     "execution_count": 5,
     "metadata": {},
     "output_type": "execute_result"
    }
   ],
   "source": [
    "mat.shape"
   ]
  },
  {
   "cell_type": "code",
   "execution_count": 6,
   "metadata": {
    "collapsed": true
   },
   "outputs": [],
   "source": [
    "for i in range(0, len(sentences)):\n",
    "    for j in range(0, len(sentences[i])):\n",
    "        mat[i, words[sentences[i][j]]] += 1"
   ]
  },
  {
   "cell_type": "code",
   "execution_count": 7,
   "metadata": {
    "collapsed": true
   },
   "outputs": [],
   "source": [
    "dist = {}\n",
    "for i in range(1, len(sentences)):\n",
    "    d = cosine(mat[0], mat[i])\n",
    "    dist[i] = d"
   ]
  },
  {
   "cell_type": "code",
   "execution_count": 8,
   "metadata": {
    "collapsed": false
   },
   "outputs": [
    {
     "data": {
      "text/plain": [
       "21"
      ]
     },
     "execution_count": 8,
     "metadata": {},
     "output_type": "execute_result"
    }
   ],
   "source": [
    "len(dist)"
   ]
  },
  {
   "cell_type": "code",
   "execution_count": 9,
   "metadata": {
    "collapsed": false
   },
   "outputs": [
    {
     "data": {
      "text/plain": [
       "{1: 0.95275444087384664,\n",
       " 2: 0.86447381456421235,\n",
       " 3: 0.89517151632780823,\n",
       " 4: 0.77708871496985887,\n",
       " 5: 0.94023856953328033,\n",
       " 6: 0.7327387580875756,\n",
       " 7: 0.92587506833388988,\n",
       " 8: 0.88427248752843102,\n",
       " 9: 0.90550888174769317,\n",
       " 10: 0.83281653622739416,\n",
       " 11: 0.88047713906656067,\n",
       " 12: 0.83964325485254543,\n",
       " 13: 0.87035925528956715,\n",
       " 14: 0.87401184233025764,\n",
       " 15: 0.94427217874246472,\n",
       " 16: 0.84063618542208085,\n",
       " 17: 0.95664450152379399,\n",
       " 18: 0.94427217874246472,\n",
       " 19: 0.88854435748492944,\n",
       " 20: 0.84275727449171223,\n",
       " 21: 0.82503644694405864}"
      ]
     },
     "execution_count": 9,
     "metadata": {},
     "output_type": "execute_result"
    }
   ],
   "source": [
    "dist"
   ]
  },
  {
   "cell_type": "code",
   "execution_count": 10,
   "metadata": {
    "collapsed": false
   },
   "outputs": [],
   "source": [
    "sortedDist = sorted(dist.items(), key=itemgetter(1))"
   ]
  },
  {
   "cell_type": "code",
   "execution_count": 11,
   "metadata": {
    "collapsed": false
   },
   "outputs": [
    {
     "data": {
      "text/plain": [
       "[(6, 0.7327387580875756),\n",
       " (4, 0.77708871496985887),\n",
       " (21, 0.82503644694405864),\n",
       " (10, 0.83281653622739416),\n",
       " (12, 0.83964325485254543),\n",
       " (16, 0.84063618542208085),\n",
       " (20, 0.84275727449171223),\n",
       " (2, 0.86447381456421235),\n",
       " (13, 0.87035925528956715),\n",
       " (14, 0.87401184233025764),\n",
       " (11, 0.88047713906656067),\n",
       " (8, 0.88427248752843102),\n",
       " (19, 0.88854435748492944),\n",
       " (3, 0.89517151632780823),\n",
       " (9, 0.90550888174769317),\n",
       " (7, 0.92587506833388988),\n",
       " (5, 0.94023856953328033),\n",
       " (15, 0.94427217874246472),\n",
       " (18, 0.94427217874246472),\n",
       " (1, 0.95275444087384664),\n",
       " (17, 0.95664450152379399)]"
      ]
     },
     "execution_count": 11,
     "metadata": {},
     "output_type": "execute_result"
    }
   ],
   "source": [
    "sortedDist"
   ]
  },
  {
   "cell_type": "code",
   "execution_count": 12,
   "metadata": {
    "collapsed": false
   },
   "outputs": [],
   "source": [
    "ans = str(sortedDist[0][0]) + ' ' + str(sortedDist[1][0])"
   ]
  },
  {
   "cell_type": "code",
   "execution_count": 13,
   "metadata": {
    "collapsed": false
   },
   "outputs": [
    {
     "data": {
      "text/plain": [
       "'6 4'"
      ]
     },
     "execution_count": 13,
     "metadata": {},
     "output_type": "execute_result"
    }
   ],
   "source": [
    "ans"
   ]
  },
  {
   "cell_type": "code",
   "execution_count": 14,
   "metadata": {
    "collapsed": false
   },
   "outputs": [],
   "source": [
    "outFile = open('submission-1.txt', 'w')\n",
    "outFile.write(ans)\n",
    "outFile.close()"
   ]
  },
  {
   "cell_type": "code",
   "execution_count": null,
   "metadata": {
    "collapsed": true
   },
   "outputs": [],
   "source": []
  }
 ],
 "metadata": {
  "kernelspec": {
   "display_name": "Python3 (ml)",
   "language": "python",
   "name": "ml"
  },
  "language_info": {
   "codemirror_mode": {
    "name": "ipython",
    "version": 3
   },
   "file_extension": ".py",
   "mimetype": "text/x-python",
   "name": "python",
   "nbconvert_exporter": "python",
   "pygments_lexer": "ipython3",
   "version": "3.6.0"
  }
 },
 "nbformat": 4,
 "nbformat_minor": 2
}
