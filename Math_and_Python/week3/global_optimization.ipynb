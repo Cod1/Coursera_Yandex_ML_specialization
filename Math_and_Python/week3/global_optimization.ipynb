{
 "cells": [
  {
   "cell_type": "code",
   "execution_count": 1,
   "metadata": {
    "collapsed": true,
    "deletable": true,
    "editable": true
   },
   "outputs": [],
   "source": [
    "import numpy as np\n",
    "from math import sin, exp\n",
    "from scipy.optimize import differential_evolution"
   ]
  },
  {
   "cell_type": "code",
   "execution_count": 2,
   "metadata": {
    "collapsed": false,
    "deletable": true,
    "editable": true
   },
   "outputs": [
    {
     "data": {
      "text/html": [
       "\n",
       "    <div class=\"bk-root\">\n",
       "        <a href=\"http://bokeh.pydata.org\" target=\"_blank\" class=\"bk-logo bk-logo-small bk-logo-notebook\"></a>\n",
       "        <span id=\"2b13f354-cb37-4541-a440-6a1efaf82150\">Loading BokehJS ...</span>\n",
       "    </div>"
      ]
     },
     "metadata": {},
     "output_type": "display_data"
    },
    {
     "data": {
      "application/javascript": [
       "\n",
       "(function(global) {\n",
       "  function now() {\n",
       "    return new Date();\n",
       "  }\n",
       "\n",
       "  var force = true;\n",
       "\n",
       "  if (typeof (window._bokeh_onload_callbacks) === \"undefined\" || force === true) {\n",
       "    window._bokeh_onload_callbacks = [];\n",
       "    window._bokeh_is_loading = undefined;\n",
       "  }\n",
       "\n",
       "\n",
       "  \n",
       "  if (typeof (window._bokeh_timeout) === \"undefined\" || force === true) {\n",
       "    window._bokeh_timeout = Date.now() + 5000;\n",
       "    window._bokeh_failed_load = false;\n",
       "  }\n",
       "\n",
       "  var NB_LOAD_WARNING = {'data': {'text/html':\n",
       "     \"<div style='background-color: #fdd'>\\n\"+\n",
       "     \"<p>\\n\"+\n",
       "     \"BokehJS does not appear to have successfully loaded. If loading BokehJS from CDN, this \\n\"+\n",
       "     \"may be due to a slow or bad network connection. Possible fixes:\\n\"+\n",
       "     \"</p>\\n\"+\n",
       "     \"<ul>\\n\"+\n",
       "     \"<li>re-rerun `output_notebook()` to attempt to load from CDN again, or</li>\\n\"+\n",
       "     \"<li>use INLINE resources instead, as so:</li>\\n\"+\n",
       "     \"</ul>\\n\"+\n",
       "     \"<code>\\n\"+\n",
       "     \"from bokeh.resources import INLINE\\n\"+\n",
       "     \"output_notebook(resources=INLINE)\\n\"+\n",
       "     \"</code>\\n\"+\n",
       "     \"</div>\"}};\n",
       "\n",
       "  function display_loaded() {\n",
       "    if (window.Bokeh !== undefined) {\n",
       "      document.getElementById(\"2b13f354-cb37-4541-a440-6a1efaf82150\").textContent = \"BokehJS successfully loaded.\";\n",
       "    } else if (Date.now() < window._bokeh_timeout) {\n",
       "      setTimeout(display_loaded, 100)\n",
       "    }\n",
       "  }\n",
       "\n",
       "  function run_callbacks() {\n",
       "    window._bokeh_onload_callbacks.forEach(function(callback) { callback() });\n",
       "    delete window._bokeh_onload_callbacks\n",
       "    console.info(\"Bokeh: all callbacks have finished\");\n",
       "  }\n",
       "\n",
       "  function load_libs(js_urls, callback) {\n",
       "    window._bokeh_onload_callbacks.push(callback);\n",
       "    if (window._bokeh_is_loading > 0) {\n",
       "      console.log(\"Bokeh: BokehJS is being loaded, scheduling callback at\", now());\n",
       "      return null;\n",
       "    }\n",
       "    if (js_urls == null || js_urls.length === 0) {\n",
       "      run_callbacks();\n",
       "      return null;\n",
       "    }\n",
       "    console.log(\"Bokeh: BokehJS not loaded, scheduling load and callback at\", now());\n",
       "    window._bokeh_is_loading = js_urls.length;\n",
       "    for (var i = 0; i < js_urls.length; i++) {\n",
       "      var url = js_urls[i];\n",
       "      var s = document.createElement('script');\n",
       "      s.src = url;\n",
       "      s.async = false;\n",
       "      s.onreadystatechange = s.onload = function() {\n",
       "        window._bokeh_is_loading--;\n",
       "        if (window._bokeh_is_loading === 0) {\n",
       "          console.log(\"Bokeh: all BokehJS libraries loaded\");\n",
       "          run_callbacks()\n",
       "        }\n",
       "      };\n",
       "      s.onerror = function() {\n",
       "        console.warn(\"failed to load library \" + url);\n",
       "      };\n",
       "      console.log(\"Bokeh: injecting script tag for BokehJS library: \", url);\n",
       "      document.getElementsByTagName(\"head\")[0].appendChild(s);\n",
       "    }\n",
       "  };var element = document.getElementById(\"2b13f354-cb37-4541-a440-6a1efaf82150\");\n",
       "  if (element == null) {\n",
       "    console.log(\"Bokeh: ERROR: autoload.js configured with elementid '2b13f354-cb37-4541-a440-6a1efaf82150' but no matching script tag was found. \")\n",
       "    return false;\n",
       "  }\n",
       "\n",
       "  var js_urls = [\"https://cdn.pydata.org/bokeh/release/bokeh-0.12.4.min.js\", \"https://cdn.pydata.org/bokeh/release/bokeh-widgets-0.12.4.min.js\"];\n",
       "\n",
       "  var inline_js = [\n",
       "    function(Bokeh) {\n",
       "      Bokeh.set_log_level(\"info\");\n",
       "    },\n",
       "    \n",
       "    function(Bokeh) {\n",
       "      \n",
       "      document.getElementById(\"2b13f354-cb37-4541-a440-6a1efaf82150\").textContent = \"BokehJS is loading...\";\n",
       "    },\n",
       "    function(Bokeh) {\n",
       "      console.log(\"Bokeh: injecting CSS: https://cdn.pydata.org/bokeh/release/bokeh-0.12.4.min.css\");\n",
       "      Bokeh.embed.inject_css(\"https://cdn.pydata.org/bokeh/release/bokeh-0.12.4.min.css\");\n",
       "      console.log(\"Bokeh: injecting CSS: https://cdn.pydata.org/bokeh/release/bokeh-widgets-0.12.4.min.css\");\n",
       "      Bokeh.embed.inject_css(\"https://cdn.pydata.org/bokeh/release/bokeh-widgets-0.12.4.min.css\");\n",
       "    }\n",
       "  ];\n",
       "\n",
       "  function run_inline_js() {\n",
       "    \n",
       "    if ((window.Bokeh !== undefined) || (force === true)) {\n",
       "      for (var i = 0; i < inline_js.length; i++) {\n",
       "        inline_js[i](window.Bokeh);\n",
       "      }if (force === true) {\n",
       "        display_loaded();\n",
       "      }} else if (Date.now() < window._bokeh_timeout) {\n",
       "      setTimeout(run_inline_js, 100);\n",
       "    } else if (!window._bokeh_failed_load) {\n",
       "      console.log(\"Bokeh: BokehJS failed to load within specified timeout.\");\n",
       "      window._bokeh_failed_load = true;\n",
       "    } else if (force !== true) {\n",
       "      var cell = $(document.getElementById(\"2b13f354-cb37-4541-a440-6a1efaf82150\")).parents('.cell').data().cell;\n",
       "      cell.output_area.append_execute_result(NB_LOAD_WARNING)\n",
       "    }\n",
       "\n",
       "  }\n",
       "\n",
       "  if (window._bokeh_is_loading === 0) {\n",
       "    console.log(\"Bokeh: BokehJS loaded, going straight to plotting\");\n",
       "    run_inline_js();\n",
       "  } else {\n",
       "    load_libs(js_urls, function() {\n",
       "      console.log(\"Bokeh: BokehJS plotting callback run at\", now());\n",
       "      run_inline_js();\n",
       "    });\n",
       "  }\n",
       "}(this));"
      ]
     },
     "metadata": {},
     "output_type": "display_data"
    }
   ],
   "source": [
    "from bokeh.io import push_notebook, show, output_notebook\n",
    "from bokeh.plotting import figure\n",
    "output_notebook()"
   ]
  },
  {
   "cell_type": "code",
   "execution_count": 3,
   "metadata": {
    "collapsed": true,
    "deletable": true,
    "editable": true
   },
   "outputs": [],
   "source": [
    "def f(x):\n",
    "    return sin(x/5.) * exp(x/10.) + 5 * exp(-x/2.)"
   ]
  },
  {
   "cell_type": "code",
   "execution_count": 4,
   "metadata": {
    "collapsed": true,
    "deletable": true,
    "editable": true
   },
   "outputs": [],
   "source": [
    "x = np.arange(0, 30, 0.1)"
   ]
  },
  {
   "cell_type": "code",
   "execution_count": 5,
   "metadata": {
    "collapsed": true,
    "deletable": true,
    "editable": true
   },
   "outputs": [],
   "source": [
    "y = [f(i) for i in x]"
   ]
  },
  {
   "cell_type": "code",
   "execution_count": 6,
   "metadata": {
    "collapsed": false,
    "deletable": true,
    "editable": true
   },
   "outputs": [
    {
     "data": {
      "text/html": [
       "\n",
       "\n",
       "    <div class=\"bk-root\">\n",
       "        <div class=\"bk-plotdiv\" id=\"03e1dec7-bebd-4c3a-82ee-92480d781fd2\"></div>\n",
       "    </div>\n",
       "<script type=\"text/javascript\">\n",
       "  \n",
       "  (function(global) {\n",
       "    function now() {\n",
       "      return new Date();\n",
       "    }\n",
       "  \n",
       "    var force = false;\n",
       "  \n",
       "    if (typeof (window._bokeh_onload_callbacks) === \"undefined\" || force === true) {\n",
       "      window._bokeh_onload_callbacks = [];\n",
       "      window._bokeh_is_loading = undefined;\n",
       "    }\n",
       "  \n",
       "  \n",
       "    \n",
       "    if (typeof (window._bokeh_timeout) === \"undefined\" || force === true) {\n",
       "      window._bokeh_timeout = Date.now() + 0;\n",
       "      window._bokeh_failed_load = false;\n",
       "    }\n",
       "  \n",
       "    var NB_LOAD_WARNING = {'data': {'text/html':\n",
       "       \"<div style='background-color: #fdd'>\\n\"+\n",
       "       \"<p>\\n\"+\n",
       "       \"BokehJS does not appear to have successfully loaded. If loading BokehJS from CDN, this \\n\"+\n",
       "       \"may be due to a slow or bad network connection. Possible fixes:\\n\"+\n",
       "       \"</p>\\n\"+\n",
       "       \"<ul>\\n\"+\n",
       "       \"<li>re-rerun `output_notebook()` to attempt to load from CDN again, or</li>\\n\"+\n",
       "       \"<li>use INLINE resources instead, as so:</li>\\n\"+\n",
       "       \"</ul>\\n\"+\n",
       "       \"<code>\\n\"+\n",
       "       \"from bokeh.resources import INLINE\\n\"+\n",
       "       \"output_notebook(resources=INLINE)\\n\"+\n",
       "       \"</code>\\n\"+\n",
       "       \"</div>\"}};\n",
       "  \n",
       "    function display_loaded() {\n",
       "      if (window.Bokeh !== undefined) {\n",
       "        document.getElementById(\"03e1dec7-bebd-4c3a-82ee-92480d781fd2\").textContent = \"BokehJS successfully loaded.\";\n",
       "      } else if (Date.now() < window._bokeh_timeout) {\n",
       "        setTimeout(display_loaded, 100)\n",
       "      }\n",
       "    }\n",
       "  \n",
       "    function run_callbacks() {\n",
       "      window._bokeh_onload_callbacks.forEach(function(callback) { callback() });\n",
       "      delete window._bokeh_onload_callbacks\n",
       "      console.info(\"Bokeh: all callbacks have finished\");\n",
       "    }\n",
       "  \n",
       "    function load_libs(js_urls, callback) {\n",
       "      window._bokeh_onload_callbacks.push(callback);\n",
       "      if (window._bokeh_is_loading > 0) {\n",
       "        console.log(\"Bokeh: BokehJS is being loaded, scheduling callback at\", now());\n",
       "        return null;\n",
       "      }\n",
       "      if (js_urls == null || js_urls.length === 0) {\n",
       "        run_callbacks();\n",
       "        return null;\n",
       "      }\n",
       "      console.log(\"Bokeh: BokehJS not loaded, scheduling load and callback at\", now());\n",
       "      window._bokeh_is_loading = js_urls.length;\n",
       "      for (var i = 0; i < js_urls.length; i++) {\n",
       "        var url = js_urls[i];\n",
       "        var s = document.createElement('script');\n",
       "        s.src = url;\n",
       "        s.async = false;\n",
       "        s.onreadystatechange = s.onload = function() {\n",
       "          window._bokeh_is_loading--;\n",
       "          if (window._bokeh_is_loading === 0) {\n",
       "            console.log(\"Bokeh: all BokehJS libraries loaded\");\n",
       "            run_callbacks()\n",
       "          }\n",
       "        };\n",
       "        s.onerror = function() {\n",
       "          console.warn(\"failed to load library \" + url);\n",
       "        };\n",
       "        console.log(\"Bokeh: injecting script tag for BokehJS library: \", url);\n",
       "        document.getElementsByTagName(\"head\")[0].appendChild(s);\n",
       "      }\n",
       "    };var element = document.getElementById(\"03e1dec7-bebd-4c3a-82ee-92480d781fd2\");\n",
       "    if (element == null) {\n",
       "      console.log(\"Bokeh: ERROR: autoload.js configured with elementid '03e1dec7-bebd-4c3a-82ee-92480d781fd2' but no matching script tag was found. \")\n",
       "      return false;\n",
       "    }\n",
       "  \n",
       "    var js_urls = [];\n",
       "  \n",
       "    var inline_js = [\n",
       "      function(Bokeh) {\n",
       "        (function() {\n",
       "          var fn = function() {\n",
       "            var docs_json = {\"21246dcd-4d54-4ed6-a6c2-dca1a239f5bd\":{\"roots\":{\"references\":[{\"attributes\":{\"line_color\":{\"value\":\"#1f77b4\"},\"line_width\":{\"value\":2},\"x\":{\"field\":\"x\"},\"y\":{\"field\":\"y\"}},\"id\":\"606ff98d-5fe8-4c03-a880-93ea188fc913\",\"type\":\"Line\"},{\"attributes\":{\"plot\":{\"id\":\"c995574f-be6d-403d-807e-695c32396eef\",\"subtype\":\"Figure\",\"type\":\"Plot\"}},\"id\":\"69cce35c-6a52-4b8f-8ccb-701d32929ae8\",\"type\":\"ResetTool\"},{\"attributes\":{\"plot\":{\"id\":\"c995574f-be6d-403d-807e-695c32396eef\",\"subtype\":\"Figure\",\"type\":\"Plot\"}},\"id\":\"54795251-1d4a-471e-851d-ce02d970b376\",\"type\":\"HelpTool\"},{\"attributes\":{},\"id\":\"e0cf9741-1632-4017-a748-5d64ded786fa\",\"type\":\"BasicTickFormatter\"},{\"attributes\":{\"line_alpha\":{\"value\":0.1},\"line_color\":{\"value\":\"#1f77b4\"},\"line_width\":{\"value\":2},\"x\":{\"field\":\"x\"},\"y\":{\"field\":\"y\"}},\"id\":\"f5fdff3c-d8b4-4272-99c2-1fff1cdbeb42\",\"type\":\"Line\"},{\"attributes\":{\"plot\":{\"id\":\"c995574f-be6d-403d-807e-695c32396eef\",\"subtype\":\"Figure\",\"type\":\"Plot\"}},\"id\":\"29a4e306-b330-4a4d-9cfa-dd356c3a374c\",\"type\":\"SaveTool\"},{\"attributes\":{\"below\":[{\"id\":\"b03dda09-0063-4937-83d1-799941d753c2\",\"type\":\"LinearAxis\"}],\"left\":[{\"id\":\"59f28dc8-2d7d-41f3-86ac-18b35f3a8166\",\"type\":\"LinearAxis\"}],\"plot_height\":400,\"plot_width\":400,\"renderers\":[{\"id\":\"b03dda09-0063-4937-83d1-799941d753c2\",\"type\":\"LinearAxis\"},{\"id\":\"481f3484-b8f0-41ad-bcf4-dc5c16eabb4d\",\"type\":\"Grid\"},{\"id\":\"59f28dc8-2d7d-41f3-86ac-18b35f3a8166\",\"type\":\"LinearAxis\"},{\"id\":\"e4860125-7d43-4019-bd13-bc76e7d298f3\",\"type\":\"Grid\"},{\"id\":\"e718a117-1fb4-4095-9d86-065697074ce2\",\"type\":\"BoxAnnotation\"},{\"id\":\"4da7c99b-651e-4af0-8469-10c9165a7cd6\",\"type\":\"GlyphRenderer\"}],\"title\":{\"id\":\"a96cb26e-a7b7-486e-a180-92fb45c5e6c5\",\"type\":\"Title\"},\"tool_events\":{\"id\":\"d2b3053d-08b6-4cac-98f8-2056779c8dab\",\"type\":\"ToolEvents\"},\"toolbar\":{\"id\":\"0347ab76-c98a-4b04-a69d-b0432af7a42e\",\"type\":\"Toolbar\"},\"x_range\":{\"id\":\"1a683850-fa38-4a6f-81a2-d17e4bc47b0d\",\"type\":\"DataRange1d\"},\"y_range\":{\"id\":\"18244cef-5a92-4d39-a250-25e294a71773\",\"type\":\"DataRange1d\"}},\"id\":\"c995574f-be6d-403d-807e-695c32396eef\",\"subtype\":\"Figure\",\"type\":\"Plot\"},{\"attributes\":{\"callback\":null,\"column_names\":[\"x\",\"y\"],\"data\":{\"x\":{\"__ndarray__\":\"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\",\"dtype\":\"float64\",\"shape\":[300]},\"y\":[5.0,4.776346779138632,4.5649842625037795,4.36533006447605,4.176829839889312,3.9989559007303,3.831205900175578,3.673101580687206,3.5241875830485765,3.384030313374117,3.252216865271419,3.128353994472113,3.012067143378875,2.9029995131006245,2.8008111806665434,2.7051782592223566,2.615792099119626,2.532358527910862,2.454597127360356,2.3822405456729943,2.3150338432311584,2.25273387021339,2.1951086745479764,2.1419369387302423,2.0930074441042392,2.048118561277957,2.0070777654062413,1.9697011751375213,1.9358131140793273,1.905245693693582,1.8778384165859365,1.8534377992040987,1.8318970130082932,1.8130755432228622,1.7968388643216164,1.7830581314410336,1.7716098869548662,1.7623757814812484,1.7552423086290903,1.7501005528245133,1.7468459495903677,1.745378057682602,1.7456003425164717,1.747419970343361,1.7507476126654336,1.75549726040046,1.7615860473330907,1.7689340824115727,1.777464290470557,1.7871022609811877,1.7977761044492575,1.8094163161007957,1.8219556465121662,1.8353289788585645,1.8494732124708269,1.864327152405655,1.8798314047488582,1.8959282773849515,1.9125616859795516,1.929677064933438,1.9472212830789883,1.9651425639009417,1.9833904100741224,2.001915532120956,2.0206697810012297,2.0396060844557855,2.0586783869345164,2.077841592947392,2.0970515136850807,2.1162648167632723,2.135438978951904,2.1545322417572956,2.1735035697315945,2.192312611390099,2.2109196626227776,2.2292856324918886,2.2473720113127706,2.265140840919937,2.2825546870252547,2.2995766135795557,2.316170159053224,2.3322993145554025,2.3479285037152815,2.36302256425257,2.3775467311677416,2.391466621485899,2.404748220491236,2.4173578693920197,2.429262254358822,2.4404283968813894,2.450823645392045,2.4604156681059113,2.469172447030505,2.4770622730993868,2.484053742386578,2.490115753360383,2.495217505137058,2.499328496696488,2.502418527023665,2.504457696141288,2.5054164070002463,2.5052653681961354,2.50397559748123,2.5015184260425696,2.497865503517941,2.492988803722657,2.4868606310610155,2.4794536275973096,2.470740780762138,2.4606954316706333,2.4492912840300085,2.4365024136145683,2.422303278287038,2.4066687285457125,2.38957401857753,2.3709948177977695,2.3509072228575834,2.3292877701010672,2.306113448454061,2.2813617127272625,2.25501049731666,2.2270382302846476,2.1974238478055153,2.1661468089593257,2.1331871108584712,2.098525304091471,2.0621425084687814,2.0240204290556405,1.984141372477123,1.9424882634808067,1.8990446617425354,1.8537947789009737,1.8067234958067144,1.75781637997183,1.707059703205841,1.654440459424146,1.5999463826150284,1.543565964951384,1.485288475033376,1.425103976248222,1.3630033452333576,1.2989782904291907,1.2330213707077187,1.1651260140631674,1.0952865363509026,1.023498160060744,0.9497570331108378,0.8740602476481562,0.7964058588416651,0.7167929036541549,0.6352214195786656,0.5516924633253422,0.4662081294445528,0.3787715688719456,0.2893870073811591,0.19805976392969757,0.10479626888350009,0.009604082105605954,-0.08750808910575403,-0.18653037224439473,-0.28745171200358255,-0.39025985287853615,-0.49494132197902935,-0.6014814120672132,-0.7098641648357871,-0.8200723544418675,-0.9320874713118411,-1.0458897062326264,-1.161457934744947,-1.2787697018540696,-1.397801207073814,-1.518527289819482,-1.6409214151655236,-1.7649556599839038,-1.890600699478987,-2.017825794135035,-2.1465987770923807,-2.2768860419682917,-2.408652531138842,-2.541861724497842,-2.676475628709164,-2.8124547669687527,-2.9497581692925277,-3.088343363346634,-3.228166365836271,-3.3691816744695444,-3.511342260512685,-3.6545995619529186,-3.7989034772854686,-3.9442023599408946,-4.0904430133692005,-4.2375706867969285,-4.385529071673459,-4.534260298822813,-4.6837049363170555,-4.833801988087341,-4.984488893288733,-5.13570152643462,-5.287374198316702,-5.439439657726236,-5.591829093992169,-5.744472140351856,-5.897296878169576,-6.05022984201832,-6.203196025639916,-6.3561188887984885,-6.508920365042124,-6.661520870387368,-6.8138393129410995,-6.965793103474055,-7.117298166960006,-7.268268955094648,-7.418618459807659,-7.568258227781525,-7.717098375990164,-7.865047608270325,-8.012013232938472,-8.15790118146537,-8.302616028220598,-8.446061011298713,-8.588138054438438,-8.728747790046176,-8.867789583334496,-9.005161557586064,-9.140760620553207,-9.274482492002639,-9.40622173241483,-9.535871772846814,-9.663324945967027,-9.788472518270229,-9.911204723480136,-10.031410797146986,-10.148979012446754,-10.263796717188319,-10.375750372034327,-10.484725589940973,-10.590607176821612,-10.693279173438254,-10.792624898524817,-10.888526993145161,-10.98086746628855,-11.069527741704599,-11.154388705979002,-11.235330757851028,-11.312233858772906,-11.384977584710672,-11.453441179185528,-11.517503607553927,-11.577043612524047,-11.631939770905692,-11.682070551589783,-11.727314374753146,-11.767549672283387,-11.802654949418073,-11.832508847591596,-11.856990208482431,-11.875978139252695,-11.889352078971191,-11.896991866210278,-11.898777807806217,-11.894590748771716,-11.884312143348748,-11.867824127188726,-11.845009590646422,-11.81575225317311,-11.779936738793609,-11.73744865265096,-11.68817465860172,-11.63200255784392,-11.568821368558766,-11.498521406546491,-11.420994366835597,-11.336133406244034,-11.243833226869834,-11.143990160487771,-11.036502253827864,-10.921269354710308,-10.798193199010791,-10.667177498429005,-10.528128029032182,-10.38095272054477,-10.225561746354057,-10.061867614200942,-9.889785257523672,-9.709232127421808,-9.520128285206487,-9.32239649550193,-9.115962319862533,-8.900754210868522,-8.676703606662398,-8.44374502588738,-8.201816162987846,-7.95085798383124,-7.6908148216093695,-7.421634472976462,-7.14326829438029,-6.8556712985413615,-6.558802251034709,-6.2526237669274884,-5.937102407424572]}},\"id\":\"a8feed5e-5261-485e-9c32-a0c6636b0752\",\"type\":\"ColumnDataSource\"},{\"attributes\":{},\"id\":\"d2b3053d-08b6-4cac-98f8-2056779c8dab\",\"type\":\"ToolEvents\"},{\"attributes\":{\"callback\":null},\"id\":\"1a683850-fa38-4a6f-81a2-d17e4bc47b0d\",\"type\":\"DataRange1d\"},{\"attributes\":{\"active_drag\":\"auto\",\"active_scroll\":\"auto\",\"active_tap\":\"auto\",\"tools\":[{\"id\":\"4a56a895-5102-45c0-a22b-fa59ff3d5dda\",\"type\":\"PanTool\"},{\"id\":\"37288c88-9dee-47e7-a917-762d7f21b282\",\"type\":\"WheelZoomTool\"},{\"id\":\"29ca830e-6001-41cb-91e1-1147031cc8af\",\"type\":\"BoxZoomTool\"},{\"id\":\"29a4e306-b330-4a4d-9cfa-dd356c3a374c\",\"type\":\"SaveTool\"},{\"id\":\"69cce35c-6a52-4b8f-8ccb-701d32929ae8\",\"type\":\"ResetTool\"},{\"id\":\"54795251-1d4a-471e-851d-ce02d970b376\",\"type\":\"HelpTool\"}]},\"id\":\"0347ab76-c98a-4b04-a69d-b0432af7a42e\",\"type\":\"Toolbar\"},{\"attributes\":{\"callback\":null},\"id\":\"18244cef-5a92-4d39-a250-25e294a71773\",\"type\":\"DataRange1d\"},{\"attributes\":{\"formatter\":{\"id\":\"1d58274e-cb14-4cc2-988d-06f2ea555966\",\"type\":\"BasicTickFormatter\"},\"plot\":{\"id\":\"c995574f-be6d-403d-807e-695c32396eef\",\"subtype\":\"Figure\",\"type\":\"Plot\"},\"ticker\":{\"id\":\"176624da-7cf6-4005-bd50-2fdf35c6dc4f\",\"type\":\"BasicTicker\"}},\"id\":\"b03dda09-0063-4937-83d1-799941d753c2\",\"type\":\"LinearAxis\"},{\"attributes\":{},\"id\":\"176624da-7cf6-4005-bd50-2fdf35c6dc4f\",\"type\":\"BasicTicker\"},{\"attributes\":{\"formatter\":{\"id\":\"e0cf9741-1632-4017-a748-5d64ded786fa\",\"type\":\"BasicTickFormatter\"},\"plot\":{\"id\":\"c995574f-be6d-403d-807e-695c32396eef\",\"subtype\":\"Figure\",\"type\":\"Plot\"},\"ticker\":{\"id\":\"605729c1-2b7d-451f-8671-865b7e4dead6\",\"type\":\"BasicTicker\"}},\"id\":\"59f28dc8-2d7d-41f3-86ac-18b35f3a8166\",\"type\":\"LinearAxis\"},{\"attributes\":{\"plot\":{\"id\":\"c995574f-be6d-403d-807e-695c32396eef\",\"subtype\":\"Figure\",\"type\":\"Plot\"},\"ticker\":{\"id\":\"176624da-7cf6-4005-bd50-2fdf35c6dc4f\",\"type\":\"BasicTicker\"}},\"id\":\"481f3484-b8f0-41ad-bcf4-dc5c16eabb4d\",\"type\":\"Grid\"},{\"attributes\":{},\"id\":\"605729c1-2b7d-451f-8671-865b7e4dead6\",\"type\":\"BasicTicker\"},{\"attributes\":{},\"id\":\"1d58274e-cb14-4cc2-988d-06f2ea555966\",\"type\":\"BasicTickFormatter\"},{\"attributes\":{\"dimension\":1,\"plot\":{\"id\":\"c995574f-be6d-403d-807e-695c32396eef\",\"subtype\":\"Figure\",\"type\":\"Plot\"},\"ticker\":{\"id\":\"605729c1-2b7d-451f-8671-865b7e4dead6\",\"type\":\"BasicTicker\"}},\"id\":\"e4860125-7d43-4019-bd13-bc76e7d298f3\",\"type\":\"Grid\"},{\"attributes\":{\"bottom_units\":\"screen\",\"fill_alpha\":{\"value\":0.5},\"fill_color\":{\"value\":\"lightgrey\"},\"left_units\":\"screen\",\"level\":\"overlay\",\"line_alpha\":{\"value\":1.0},\"line_color\":{\"value\":\"black\"},\"line_dash\":[4,4],\"line_width\":{\"value\":2},\"plot\":null,\"render_mode\":\"css\",\"right_units\":\"screen\",\"top_units\":\"screen\"},\"id\":\"e718a117-1fb4-4095-9d86-065697074ce2\",\"type\":\"BoxAnnotation\"},{\"attributes\":{\"plot\":{\"id\":\"c995574f-be6d-403d-807e-695c32396eef\",\"subtype\":\"Figure\",\"type\":\"Plot\"}},\"id\":\"4a56a895-5102-45c0-a22b-fa59ff3d5dda\",\"type\":\"PanTool\"},{\"attributes\":{\"plot\":null,\"text\":\"\"},\"id\":\"a96cb26e-a7b7-486e-a180-92fb45c5e6c5\",\"type\":\"Title\"},{\"attributes\":{\"plot\":{\"id\":\"c995574f-be6d-403d-807e-695c32396eef\",\"subtype\":\"Figure\",\"type\":\"Plot\"}},\"id\":\"37288c88-9dee-47e7-a917-762d7f21b282\",\"type\":\"WheelZoomTool\"},{\"attributes\":{\"overlay\":{\"id\":\"e718a117-1fb4-4095-9d86-065697074ce2\",\"type\":\"BoxAnnotation\"},\"plot\":{\"id\":\"c995574f-be6d-403d-807e-695c32396eef\",\"subtype\":\"Figure\",\"type\":\"Plot\"}},\"id\":\"29ca830e-6001-41cb-91e1-1147031cc8af\",\"type\":\"BoxZoomTool\"},{\"attributes\":{\"data_source\":{\"id\":\"a8feed5e-5261-485e-9c32-a0c6636b0752\",\"type\":\"ColumnDataSource\"},\"glyph\":{\"id\":\"606ff98d-5fe8-4c03-a880-93ea188fc913\",\"type\":\"Line\"},\"hover_glyph\":null,\"nonselection_glyph\":{\"id\":\"f5fdff3c-d8b4-4272-99c2-1fff1cdbeb42\",\"type\":\"Line\"},\"selection_glyph\":null},\"id\":\"4da7c99b-651e-4af0-8469-10c9165a7cd6\",\"type\":\"GlyphRenderer\"}],\"root_ids\":[\"c995574f-be6d-403d-807e-695c32396eef\"]},\"title\":\"Bokeh Application\",\"version\":\"0.12.4\"}};\n",
       "            var render_items = [{\"docid\":\"21246dcd-4d54-4ed6-a6c2-dca1a239f5bd\",\"elementid\":\"03e1dec7-bebd-4c3a-82ee-92480d781fd2\",\"modelid\":\"c995574f-be6d-403d-807e-695c32396eef\"}];\n",
       "            \n",
       "            Bokeh.embed.embed_items(docs_json, render_items);\n",
       "          };\n",
       "          if (document.readyState != \"loading\") fn();\n",
       "          else document.addEventListener(\"DOMContentLoaded\", fn);\n",
       "        })();\n",
       "      },\n",
       "      function(Bokeh) {\n",
       "      }\n",
       "    ];\n",
       "  \n",
       "    function run_inline_js() {\n",
       "      \n",
       "      if ((window.Bokeh !== undefined) || (force === true)) {\n",
       "        for (var i = 0; i < inline_js.length; i++) {\n",
       "          inline_js[i](window.Bokeh);\n",
       "        }if (force === true) {\n",
       "          display_loaded();\n",
       "        }} else if (Date.now() < window._bokeh_timeout) {\n",
       "        setTimeout(run_inline_js, 100);\n",
       "      } else if (!window._bokeh_failed_load) {\n",
       "        console.log(\"Bokeh: BokehJS failed to load within specified timeout.\");\n",
       "        window._bokeh_failed_load = true;\n",
       "      } else if (force !== true) {\n",
       "        var cell = $(document.getElementById(\"03e1dec7-bebd-4c3a-82ee-92480d781fd2\")).parents('.cell').data().cell;\n",
       "        cell.output_area.append_execute_result(NB_LOAD_WARNING)\n",
       "      }\n",
       "  \n",
       "    }\n",
       "  \n",
       "    if (window._bokeh_is_loading === 0) {\n",
       "      console.log(\"Bokeh: BokehJS loaded, going straight to plotting\");\n",
       "      run_inline_js();\n",
       "    } else {\n",
       "      load_libs(js_urls, function() {\n",
       "        console.log(\"Bokeh: BokehJS plotting callback run at\", now());\n",
       "        run_inline_js();\n",
       "      });\n",
       "    }\n",
       "  }(this));\n",
       "</script>"
      ]
     },
     "metadata": {},
     "output_type": "display_data"
    }
   ],
   "source": [
    "p = figure(plot_width=400, plot_height=400)\n",
    "p.line(x, y, line_width=2)\n",
    "show(p)"
   ]
  },
  {
   "cell_type": "code",
   "execution_count": 7,
   "metadata": {
    "collapsed": true,
    "deletable": true,
    "editable": true
   },
   "outputs": [],
   "source": [
    "minim = differential_evolution(f, [(1, 30)])"
   ]
  },
  {
   "cell_type": "code",
   "execution_count": 8,
   "metadata": {
    "collapsed": false,
    "deletable": true,
    "editable": true
   },
   "outputs": [
    {
     "data": {
      "text/plain": [
       "     fun: -11.898894665981311\n",
       "     jac: array([ -1.77635684e-07])\n",
       " message: 'Optimization terminated successfully.'\n",
       "    nfev: 81\n",
       "     nit: 4\n",
       " success: True\n",
       "       x: array([ 25.88019285])"
      ]
     },
     "execution_count": 8,
     "metadata": {},
     "output_type": "execute_result"
    }
   ],
   "source": [
    "minim"
   ]
  },
  {
   "cell_type": "code",
   "execution_count": 9,
   "metadata": {
    "collapsed": true,
    "deletable": true,
    "editable": true
   },
   "outputs": [],
   "source": [
    "with open('global_optimization.txt', 'w') as outFile:\n",
    "     outFile.write(str(round(minim.fun, 3)))"
   ]
  },
  {
   "cell_type": "code",
   "execution_count": null,
   "metadata": {
    "collapsed": true,
    "deletable": true,
    "editable": true
   },
   "outputs": [],
   "source": []
  }
 ],
 "metadata": {
  "kernelspec": {
   "display_name": "Python3 (ml)",
   "language": "python",
   "name": "ml"
  },
  "language_info": {
   "codemirror_mode": {
    "name": "ipython",
    "version": 3
   },
   "file_extension": ".py",
   "mimetype": "text/x-python",
   "name": "python",
   "nbconvert_exporter": "python",
   "pygments_lexer": "ipython3",
   "version": "3.6.0"
  }
 },
 "nbformat": 4,
 "nbformat_minor": 2
}
