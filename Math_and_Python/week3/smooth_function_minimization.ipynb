{
 "cells": [
  {
   "cell_type": "code",
   "execution_count": 1,
   "metadata": {
    "collapsed": false,
    "deletable": true,
    "editable": true
   },
   "outputs": [],
   "source": [
    "import numpy as np\n",
    "from math import sin, exp\n",
    "from scipy.optimize import minimize"
   ]
  },
  {
   "cell_type": "code",
   "execution_count": 2,
   "metadata": {
    "collapsed": false,
    "deletable": true,
    "editable": true
   },
   "outputs": [
    {
     "data": {
      "text/html": [
       "\n",
       "    <div class=\"bk-root\">\n",
       "        <a href=\"http://bokeh.pydata.org\" target=\"_blank\" class=\"bk-logo bk-logo-small bk-logo-notebook\"></a>\n",
       "        <span id=\"9e3d0273-80bc-4b28-844a-f5c05317ee20\">Loading BokehJS ...</span>\n",
       "    </div>"
      ]
     },
     "metadata": {},
     "output_type": "display_data"
    },
    {
     "data": {
      "application/javascript": [
       "\n",
       "(function(global) {\n",
       "  function now() {\n",
       "    return new Date();\n",
       "  }\n",
       "\n",
       "  var force = true;\n",
       "\n",
       "  if (typeof (window._bokeh_onload_callbacks) === \"undefined\" || force === true) {\n",
       "    window._bokeh_onload_callbacks = [];\n",
       "    window._bokeh_is_loading = undefined;\n",
       "  }\n",
       "\n",
       "\n",
       "  \n",
       "  if (typeof (window._bokeh_timeout) === \"undefined\" || force === true) {\n",
       "    window._bokeh_timeout = Date.now() + 5000;\n",
       "    window._bokeh_failed_load = false;\n",
       "  }\n",
       "\n",
       "  var NB_LOAD_WARNING = {'data': {'text/html':\n",
       "     \"<div style='background-color: #fdd'>\\n\"+\n",
       "     \"<p>\\n\"+\n",
       "     \"BokehJS does not appear to have successfully loaded. If loading BokehJS from CDN, this \\n\"+\n",
       "     \"may be due to a slow or bad network connection. Possible fixes:\\n\"+\n",
       "     \"</p>\\n\"+\n",
       "     \"<ul>\\n\"+\n",
       "     \"<li>re-rerun `output_notebook()` to attempt to load from CDN again, or</li>\\n\"+\n",
       "     \"<li>use INLINE resources instead, as so:</li>\\n\"+\n",
       "     \"</ul>\\n\"+\n",
       "     \"<code>\\n\"+\n",
       "     \"from bokeh.resources import INLINE\\n\"+\n",
       "     \"output_notebook(resources=INLINE)\\n\"+\n",
       "     \"</code>\\n\"+\n",
       "     \"</div>\"}};\n",
       "\n",
       "  function display_loaded() {\n",
       "    if (window.Bokeh !== undefined) {\n",
       "      document.getElementById(\"9e3d0273-80bc-4b28-844a-f5c05317ee20\").textContent = \"BokehJS successfully loaded.\";\n",
       "    } else if (Date.now() < window._bokeh_timeout) {\n",
       "      setTimeout(display_loaded, 100)\n",
       "    }\n",
       "  }\n",
       "\n",
       "  function run_callbacks() {\n",
       "    window._bokeh_onload_callbacks.forEach(function(callback) { callback() });\n",
       "    delete window._bokeh_onload_callbacks\n",
       "    console.info(\"Bokeh: all callbacks have finished\");\n",
       "  }\n",
       "\n",
       "  function load_libs(js_urls, callback) {\n",
       "    window._bokeh_onload_callbacks.push(callback);\n",
       "    if (window._bokeh_is_loading > 0) {\n",
       "      console.log(\"Bokeh: BokehJS is being loaded, scheduling callback at\", now());\n",
       "      return null;\n",
       "    }\n",
       "    if (js_urls == null || js_urls.length === 0) {\n",
       "      run_callbacks();\n",
       "      return null;\n",
       "    }\n",
       "    console.log(\"Bokeh: BokehJS not loaded, scheduling load and callback at\", now());\n",
       "    window._bokeh_is_loading = js_urls.length;\n",
       "    for (var i = 0; i < js_urls.length; i++) {\n",
       "      var url = js_urls[i];\n",
       "      var s = document.createElement('script');\n",
       "      s.src = url;\n",
       "      s.async = false;\n",
       "      s.onreadystatechange = s.onload = function() {\n",
       "        window._bokeh_is_loading--;\n",
       "        if (window._bokeh_is_loading === 0) {\n",
       "          console.log(\"Bokeh: all BokehJS libraries loaded\");\n",
       "          run_callbacks()\n",
       "        }\n",
       "      };\n",
       "      s.onerror = function() {\n",
       "        console.warn(\"failed to load library \" + url);\n",
       "      };\n",
       "      console.log(\"Bokeh: injecting script tag for BokehJS library: \", url);\n",
       "      document.getElementsByTagName(\"head\")[0].appendChild(s);\n",
       "    }\n",
       "  };var element = document.getElementById(\"9e3d0273-80bc-4b28-844a-f5c05317ee20\");\n",
       "  if (element == null) {\n",
       "    console.log(\"Bokeh: ERROR: autoload.js configured with elementid '9e3d0273-80bc-4b28-844a-f5c05317ee20' but no matching script tag was found. \")\n",
       "    return false;\n",
       "  }\n",
       "\n",
       "  var js_urls = [\"https://cdn.pydata.org/bokeh/release/bokeh-0.12.4.min.js\", \"https://cdn.pydata.org/bokeh/release/bokeh-widgets-0.12.4.min.js\"];\n",
       "\n",
       "  var inline_js = [\n",
       "    function(Bokeh) {\n",
       "      Bokeh.set_log_level(\"info\");\n",
       "    },\n",
       "    \n",
       "    function(Bokeh) {\n",
       "      \n",
       "      document.getElementById(\"9e3d0273-80bc-4b28-844a-f5c05317ee20\").textContent = \"BokehJS is loading...\";\n",
       "    },\n",
       "    function(Bokeh) {\n",
       "      console.log(\"Bokeh: injecting CSS: https://cdn.pydata.org/bokeh/release/bokeh-0.12.4.min.css\");\n",
       "      Bokeh.embed.inject_css(\"https://cdn.pydata.org/bokeh/release/bokeh-0.12.4.min.css\");\n",
       "      console.log(\"Bokeh: injecting CSS: https://cdn.pydata.org/bokeh/release/bokeh-widgets-0.12.4.min.css\");\n",
       "      Bokeh.embed.inject_css(\"https://cdn.pydata.org/bokeh/release/bokeh-widgets-0.12.4.min.css\");\n",
       "    }\n",
       "  ];\n",
       "\n",
       "  function run_inline_js() {\n",
       "    \n",
       "    if ((window.Bokeh !== undefined) || (force === true)) {\n",
       "      for (var i = 0; i < inline_js.length; i++) {\n",
       "        inline_js[i](window.Bokeh);\n",
       "      }if (force === true) {\n",
       "        display_loaded();\n",
       "      }} else if (Date.now() < window._bokeh_timeout) {\n",
       "      setTimeout(run_inline_js, 100);\n",
       "    } else if (!window._bokeh_failed_load) {\n",
       "      console.log(\"Bokeh: BokehJS failed to load within specified timeout.\");\n",
       "      window._bokeh_failed_load = true;\n",
       "    } else if (force !== true) {\n",
       "      var cell = $(document.getElementById(\"9e3d0273-80bc-4b28-844a-f5c05317ee20\")).parents('.cell').data().cell;\n",
       "      cell.output_area.append_execute_result(NB_LOAD_WARNING)\n",
       "    }\n",
       "\n",
       "  }\n",
       "\n",
       "  if (window._bokeh_is_loading === 0) {\n",
       "    console.log(\"Bokeh: BokehJS loaded, going straight to plotting\");\n",
       "    run_inline_js();\n",
       "  } else {\n",
       "    load_libs(js_urls, function() {\n",
       "      console.log(\"Bokeh: BokehJS plotting callback run at\", now());\n",
       "      run_inline_js();\n",
       "    });\n",
       "  }\n",
       "}(this));"
      ]
     },
     "metadata": {},
     "output_type": "display_data"
    }
   ],
   "source": [
    "from bokeh.io import push_notebook, show, output_notebook\n",
    "from bokeh.plotting import figure\n",
    "output_notebook()"
   ]
  },
  {
   "cell_type": "code",
   "execution_count": 3,
   "metadata": {
    "collapsed": true,
    "deletable": true,
    "editable": true
   },
   "outputs": [],
   "source": [
    "def f(x):\n",
    "    return sin(x/5.) * exp(x/10.) + 5 * exp(-x/2.)"
   ]
  },
  {
   "cell_type": "code",
   "execution_count": 4,
   "metadata": {
    "collapsed": false,
    "deletable": true,
    "editable": true
   },
   "outputs": [],
   "source": [
    "x = np.arange(0, 30, 0.1)"
   ]
  },
  {
   "cell_type": "code",
   "execution_count": 5,
   "metadata": {
    "collapsed": false,
    "deletable": true,
    "editable": true
   },
   "outputs": [],
   "source": [
    "y = [f(i) for i in x]"
   ]
  },
  {
   "cell_type": "code",
   "execution_count": 6,
   "metadata": {
    "collapsed": false,
    "deletable": true,
    "editable": true
   },
   "outputs": [
    {
     "data": {
      "text/html": [
       "\n",
       "\n",
       "    <div class=\"bk-root\">\n",
       "        <div class=\"bk-plotdiv\" id=\"91adb54c-11a0-417c-84db-14f0dece8e96\"></div>\n",
       "    </div>\n",
       "<script type=\"text/javascript\">\n",
       "  \n",
       "  (function(global) {\n",
       "    function now() {\n",
       "      return new Date();\n",
       "    }\n",
       "  \n",
       "    var force = false;\n",
       "  \n",
       "    if (typeof (window._bokeh_onload_callbacks) === \"undefined\" || force === true) {\n",
       "      window._bokeh_onload_callbacks = [];\n",
       "      window._bokeh_is_loading = undefined;\n",
       "    }\n",
       "  \n",
       "  \n",
       "    \n",
       "    if (typeof (window._bokeh_timeout) === \"undefined\" || force === true) {\n",
       "      window._bokeh_timeout = Date.now() + 0;\n",
       "      window._bokeh_failed_load = false;\n",
       "    }\n",
       "  \n",
       "    var NB_LOAD_WARNING = {'data': {'text/html':\n",
       "       \"<div style='background-color: #fdd'>\\n\"+\n",
       "       \"<p>\\n\"+\n",
       "       \"BokehJS does not appear to have successfully loaded. If loading BokehJS from CDN, this \\n\"+\n",
       "       \"may be due to a slow or bad network connection. Possible fixes:\\n\"+\n",
       "       \"</p>\\n\"+\n",
       "       \"<ul>\\n\"+\n",
       "       \"<li>re-rerun `output_notebook()` to attempt to load from CDN again, or</li>\\n\"+\n",
       "       \"<li>use INLINE resources instead, as so:</li>\\n\"+\n",
       "       \"</ul>\\n\"+\n",
       "       \"<code>\\n\"+\n",
       "       \"from bokeh.resources import INLINE\\n\"+\n",
       "       \"output_notebook(resources=INLINE)\\n\"+\n",
       "       \"</code>\\n\"+\n",
       "       \"</div>\"}};\n",
       "  \n",
       "    function display_loaded() {\n",
       "      if (window.Bokeh !== undefined) {\n",
       "        document.getElementById(\"91adb54c-11a0-417c-84db-14f0dece8e96\").textContent = \"BokehJS successfully loaded.\";\n",
       "      } else if (Date.now() < window._bokeh_timeout) {\n",
       "        setTimeout(display_loaded, 100)\n",
       "      }\n",
       "    }\n",
       "  \n",
       "    function run_callbacks() {\n",
       "      window._bokeh_onload_callbacks.forEach(function(callback) { callback() });\n",
       "      delete window._bokeh_onload_callbacks\n",
       "      console.info(\"Bokeh: all callbacks have finished\");\n",
       "    }\n",
       "  \n",
       "    function load_libs(js_urls, callback) {\n",
       "      window._bokeh_onload_callbacks.push(callback);\n",
       "      if (window._bokeh_is_loading > 0) {\n",
       "        console.log(\"Bokeh: BokehJS is being loaded, scheduling callback at\", now());\n",
       "        return null;\n",
       "      }\n",
       "      if (js_urls == null || js_urls.length === 0) {\n",
       "        run_callbacks();\n",
       "        return null;\n",
       "      }\n",
       "      console.log(\"Bokeh: BokehJS not loaded, scheduling load and callback at\", now());\n",
       "      window._bokeh_is_loading = js_urls.length;\n",
       "      for (var i = 0; i < js_urls.length; i++) {\n",
       "        var url = js_urls[i];\n",
       "        var s = document.createElement('script');\n",
       "        s.src = url;\n",
       "        s.async = false;\n",
       "        s.onreadystatechange = s.onload = function() {\n",
       "          window._bokeh_is_loading--;\n",
       "          if (window._bokeh_is_loading === 0) {\n",
       "            console.log(\"Bokeh: all BokehJS libraries loaded\");\n",
       "            run_callbacks()\n",
       "          }\n",
       "        };\n",
       "        s.onerror = function() {\n",
       "          console.warn(\"failed to load library \" + url);\n",
       "        };\n",
       "        console.log(\"Bokeh: injecting script tag for BokehJS library: \", url);\n",
       "        document.getElementsByTagName(\"head\")[0].appendChild(s);\n",
       "      }\n",
       "    };var element = document.getElementById(\"91adb54c-11a0-417c-84db-14f0dece8e96\");\n",
       "    if (element == null) {\n",
       "      console.log(\"Bokeh: ERROR: autoload.js configured with elementid '91adb54c-11a0-417c-84db-14f0dece8e96' but no matching script tag was found. \")\n",
       "      return false;\n",
       "    }\n",
       "  \n",
       "    var js_urls = [];\n",
       "  \n",
       "    var inline_js = [\n",
       "      function(Bokeh) {\n",
       "        (function() {\n",
       "          var fn = function() {\n",
       "            var docs_json = {\"22bfc82c-0f14-4474-8442-f36e5a3f4f96\":{\"roots\":{\"references\":[{\"attributes\":{\"line_color\":{\"value\":\"#1f77b4\"},\"line_width\":{\"value\":2},\"x\":{\"field\":\"x\"},\"y\":{\"field\":\"y\"}},\"id\":\"5d7460c2-1ed0-4d14-befc-d5c307618155\",\"type\":\"Line\"},{\"attributes\":{\"plot\":null,\"text\":\"\"},\"id\":\"d0f64349-337e-4f9f-ae94-dafcf8923e46\",\"type\":\"Title\"},{\"attributes\":{\"below\":[{\"id\":\"389d8b0f-ed11-4fcb-9600-448efd0bb162\",\"type\":\"LinearAxis\"}],\"left\":[{\"id\":\"bc6bd979-3edd-4484-8625-b1afac6e64d5\",\"type\":\"LinearAxis\"}],\"plot_height\":400,\"plot_width\":400,\"renderers\":[{\"id\":\"389d8b0f-ed11-4fcb-9600-448efd0bb162\",\"type\":\"LinearAxis\"},{\"id\":\"60bebd4a-37d5-49c5-b446-49519d5c4ab7\",\"type\":\"Grid\"},{\"id\":\"bc6bd979-3edd-4484-8625-b1afac6e64d5\",\"type\":\"LinearAxis\"},{\"id\":\"bc2c8ba2-11e7-4b20-8b83-b136de9949fe\",\"type\":\"Grid\"},{\"id\":\"536e67fa-9771-40e9-83fd-98a0e9801400\",\"type\":\"BoxAnnotation\"},{\"id\":\"b474370b-0f3d-4bcb-abc8-8cae68e99284\",\"type\":\"GlyphRenderer\"}],\"title\":{\"id\":\"d0f64349-337e-4f9f-ae94-dafcf8923e46\",\"type\":\"Title\"},\"tool_events\":{\"id\":\"65a907a9-da13-45a2-8d20-1d122c4edfe2\",\"type\":\"ToolEvents\"},\"toolbar\":{\"id\":\"dee7f1f5-3826-4fb7-af5f-2255f9fdfc34\",\"type\":\"Toolbar\"},\"x_range\":{\"id\":\"ec8b4763-8429-488b-a9a3-5b756d4227e2\",\"type\":\"DataRange1d\"},\"y_range\":{\"id\":\"9374a183-ab41-4b00-bdfe-e9fd3cc9bc4a\",\"type\":\"DataRange1d\"}},\"id\":\"88b1ba65-773a-45f3-b170-fc3b8ee07320\",\"subtype\":\"Figure\",\"type\":\"Plot\"},{\"attributes\":{\"callback\":null,\"column_names\":[\"x\",\"y\"],\"data\":{\"x\":{\"__ndarray__\":\"AAAAAAAAAACamZmZmZm5P5qZmZmZmck/NDMzMzMz0z+amZmZmZnZPwAAAAAAAOA/NDMzMzMz4z9nZmZmZmbmP5qZmZmZmek/zczMzMzM7D8AAAAAAADwP5qZmZmZmfE/NDMzMzMz8z/NzMzMzMz0P2dmZmZmZvY/AAAAAAAA+D+amZmZmZn5PzQzMzMzM/s/zczMzMzM/D9nZmZmZmb+PwAAAAAAAABAzczMzMzMAECamZmZmZkBQGdmZmZmZgJANDMzMzMzA0AAAAAAAAAEQM3MzMzMzARAmpmZmZmZBUBnZmZmZmYGQDQzMzMzMwdAAAAAAAAACEDNzMzMzMwIQJqZmZmZmQlAZ2ZmZmZmCkA0MzMzMzMLQAAAAAAAAAxAzczMzMzMDECamZmZmZkNQGdmZmZmZg5ANDMzMzMzD0AAAAAAAAAQQGdmZmZmZhBAzczMzMzMEEAzMzMzMzMRQJqZmZmZmRFAAAAAAAAAEkBnZmZmZmYSQM3MzMzMzBJANDMzMzMzE0CamZmZmZkTQAAAAAAAABRAZ2ZmZmZmFEDNzMzMzMwUQDQzMzMzMxVAmpmZmZmZFUAAAAAAAAAWQGdmZmZmZhZAzczMzMzMFkA0MzMzMzMXQJqZmZmZmRdAAAAAAAAAGEBnZmZmZmYYQM3MzMzMzBhANDMzMzMzGUCamZmZmZkZQAAAAAAAABpAZ2ZmZmZmGkDNzMzMzMwaQDQzMzMzMxtAmpmZmZmZG0AAAAAAAAAcQGdmZmZmZhxAzczMzMzMHEA0MzMzMzMdQJqZmZmZmR1AAAAAAAAAHkBnZmZmZmYeQM3MzMzMzB5ANDMzMzMzH0CamZmZmZkfQAAAAAAAACBAMzMzMzMzIEBnZmZmZmYgQJqZmZmZmSBAzczMzMzMIEAAAAAAAAAhQDMzMzMzMyFAZ2ZmZmZmIUCamZmZmZkhQM3MzMzMzCFAAAAAAAAAIkAzMzMzMzMiQGdmZmZmZiJAmpmZmZmZIkDNzMzMzMwiQAAAAAAAACNANDMzMzMzI0BnZmZmZmYjQJqZmZmZmSNAzczMzMzMI0AAAAAAAAAkQDQzMzMzMyRAZ2ZmZmZmJECamZmZmZkkQM3MzMzMzCRAAAAAAAAAJUA0MzMzMzMlQGdmZmZmZiVAmpmZmZmZJUDNzMzMzMwlQAAAAAAAACZANDMzMzMzJkBnZmZmZmYmQJqZmZmZmSZAzczMzMzMJkAAAAAAAAAnQDQzMzMzMydAZ2ZmZmZmJ0CamZmZmZknQM3MzMzMzCdAAAAAAAAAKEA0MzMzMzMoQGdmZmZmZihAmpmZmZmZKEDNzMzMzMwoQAAAAAAAAClANDMzMzMzKUBnZmZmZmYpQJqZmZmZmSlAzczMzMzMKUAAAAAAAAAqQDQzMzMzMypAZ2ZmZmZmKkCamZmZmZkqQM3MzMzMzCpAAAAAAAAAK0A0MzMzMzMrQGdmZmZmZitAmpmZmZmZK0DNzMzMzMwrQAAAAAAAACxANDMzMzMzLEBnZmZmZmYsQJqZmZmZmSxAzczMzMzMLEAAAAAAAAAtQDQzMzMzMy1AZ2ZmZmZmLUCamZmZmZktQM3MzMzMzC1AAAAAAAAALkA0MzMzMzMuQGdmZmZmZi5AmpmZmZmZLkDNzMzMzMwuQAAAAAAAAC9ANDMzMzMzL0BnZmZmZmYvQJqZmZmZmS9AzczMzMzML0AAAAAAAAAwQJqZmZmZGTBAMzMzMzMzMEDNzMzMzEwwQGdmZmZmZjBAAAAAAACAMECamZmZmZkwQDMzMzMzszBAzczMzMzMMEBnZmZmZuYwQAAAAAAAADFAmpmZmZkZMUAzMzMzMzMxQM3MzMzMTDFAZ2ZmZmZmMUAAAAAAAIAxQJqZmZmZmTFAMzMzMzOzMUDNzMzMzMwxQGdmZmZm5jFAAAAAAAAAMkCamZmZmRkyQDMzMzMzMzJAzczMzMxMMkBnZmZmZmYyQAAAAAAAgDJAmpmZmZmZMkAzMzMzM7MyQM3MzMzMzDJAZ2ZmZmbmMkAAAAAAAAAzQJqZmZmZGTNANDMzMzMzM0DNzMzMzEwzQGdmZmZmZjNAAAAAAACAM0CamZmZmZkzQDQzMzMzszNAzczMzMzMM0BnZmZmZuYzQAAAAAAAADRAmpmZmZkZNEA0MzMzMzM0QM3MzMzMTDRAZ2ZmZmZmNEAAAAAAAIA0QJqZmZmZmTRANDMzMzOzNEDNzMzMzMw0QGdmZmZm5jRAAAAAAAAANUCamZmZmRk1QDQzMzMzMzVAzczMzMxMNUBnZmZmZmY1QAAAAAAAgDVAmpmZmZmZNUA0MzMzM7M1QM3MzMzMzDVAZ2ZmZmbmNUAAAAAAAAA2QJqZmZmZGTZANDMzMzMzNkDNzMzMzEw2QGdmZmZmZjZAAAAAAACANkCamZmZmZk2QDQzMzMzszZAzczMzMzMNkBnZmZmZuY2QAAAAAAAADdAmpmZmZkZN0A0MzMzMzM3QM3MzMzMTDdAZ2ZmZmZmN0AAAAAAAIA3QJqZmZmZmTdANDMzMzOzN0DNzMzMzMw3QGdmZmZm5jdAAAAAAAAAOECamZmZmRk4QDQzMzMzMzhAzczMzMxMOEBnZmZmZmY4QAAAAAAAgDhAmpmZmZmZOEA0MzMzM7M4QM3MzMzMzDhAZ2ZmZmbmOEAAAAAAAAA5QJqZmZmZGTlANDMzMzMzOUDNzMzMzEw5QGdmZmZmZjlAAAAAAACAOUCamZmZmZk5QDQzMzMzszlAzczMzMzMOUBnZmZmZuY5QAAAAAAAADpAmpmZmZkZOkA0MzMzMzM6QM3MzMzMTDpAZ2ZmZmZmOkAAAAAAAIA6QJqZmZmZmTpANDMzMzOzOkDNzMzMzMw6QGdmZmZm5jpAAAAAAAAAO0CamZmZmRk7QDQzMzMzMztAzczMzMxMO0BnZmZmZmY7QAAAAAAAgDtAmpmZmZmZO0A0MzMzM7M7QM3MzMzMzDtAZ2ZmZmbmO0AAAAAAAAA8QJqZmZmZGTxANDMzMzMzPEDNzMzMzEw8QGdmZmZmZjxAAAAAAACAPECamZmZmZk8QDQzMzMzszxAzczMzMzMPEBnZmZmZuY8QAAAAAAAAD1AmpmZmZkZPUA0MzMzMzM9QM3MzMzMTD1AZ2ZmZmZmPUAAAAAAAIA9QJqZmZmZmT1ANDMzMzOzPUDNzMzMzMw9QGdmZmZm5j1A\",\"dtype\":\"float64\",\"shape\":[300]},\"y\":[5.0,4.776346779138632,4.5649842625037795,4.36533006447605,4.176829839889312,3.9989559007303,3.831205900175578,3.673101580687206,3.5241875830485765,3.384030313374117,3.252216865271419,3.128353994472113,3.012067143378875,2.9029995131006245,2.8008111806665434,2.7051782592223566,2.615792099119626,2.532358527910862,2.454597127360356,2.3822405456729943,2.3150338432311584,2.25273387021339,2.1951086745479764,2.1419369387302423,2.0930074441042392,2.048118561277957,2.0070777654062413,1.9697011751375213,1.9358131140793273,1.905245693693582,1.8778384165859365,1.8534377992040987,1.8318970130082932,1.8130755432228622,1.7968388643216164,1.7830581314410336,1.7716098869548662,1.7623757814812484,1.7552423086290903,1.7501005528245133,1.7468459495903677,1.745378057682602,1.7456003425164717,1.747419970343361,1.7507476126654336,1.75549726040046,1.7615860473330907,1.7689340824115727,1.777464290470557,1.7871022609811877,1.7977761044492575,1.8094163161007957,1.8219556465121662,1.8353289788585645,1.8494732124708269,1.864327152405655,1.8798314047488582,1.8959282773849515,1.9125616859795516,1.929677064933438,1.9472212830789883,1.9651425639009417,1.9833904100741224,2.001915532120956,2.0206697810012297,2.0396060844557855,2.0586783869345164,2.077841592947392,2.0970515136850807,2.1162648167632723,2.135438978951904,2.1545322417572956,2.1735035697315945,2.192312611390099,2.2109196626227776,2.2292856324918886,2.2473720113127706,2.265140840919937,2.2825546870252547,2.2995766135795557,2.316170159053224,2.3322993145554025,2.3479285037152815,2.36302256425257,2.3775467311677416,2.391466621485899,2.404748220491236,2.4173578693920197,2.429262254358822,2.4404283968813894,2.450823645392045,2.4604156681059113,2.469172447030505,2.4770622730993868,2.484053742386578,2.490115753360383,2.495217505137058,2.499328496696488,2.502418527023665,2.504457696141288,2.5054164070002463,2.5052653681961354,2.50397559748123,2.5015184260425696,2.497865503517941,2.492988803722657,2.4868606310610155,2.4794536275973096,2.470740780762138,2.4606954316706333,2.4492912840300085,2.4365024136145683,2.422303278287038,2.4066687285457125,2.38957401857753,2.3709948177977695,2.3509072228575834,2.3292877701010672,2.306113448454061,2.2813617127272625,2.25501049731666,2.2270382302846476,2.1974238478055153,2.1661468089593257,2.1331871108584712,2.098525304091471,2.0621425084687814,2.0240204290556405,1.984141372477123,1.9424882634808067,1.8990446617425354,1.8537947789009737,1.8067234958067144,1.75781637997183,1.707059703205841,1.654440459424146,1.5999463826150284,1.543565964951384,1.485288475033376,1.425103976248222,1.3630033452333576,1.2989782904291907,1.2330213707077187,1.1651260140631674,1.0952865363509026,1.023498160060744,0.9497570331108378,0.8740602476481562,0.7964058588416651,0.7167929036541549,0.6352214195786656,0.5516924633253422,0.4662081294445528,0.3787715688719456,0.2893870073811591,0.19805976392969757,0.10479626888350009,0.009604082105605954,-0.08750808910575403,-0.18653037224439473,-0.28745171200358255,-0.39025985287853615,-0.49494132197902935,-0.6014814120672132,-0.7098641648357871,-0.8200723544418675,-0.9320874713118411,-1.0458897062326264,-1.161457934744947,-1.2787697018540696,-1.397801207073814,-1.518527289819482,-1.6409214151655236,-1.7649556599839038,-1.890600699478987,-2.017825794135035,-2.1465987770923807,-2.2768860419682917,-2.408652531138842,-2.541861724497842,-2.676475628709164,-2.8124547669687527,-2.9497581692925277,-3.088343363346634,-3.228166365836271,-3.3691816744695444,-3.511342260512685,-3.6545995619529186,-3.7989034772854686,-3.9442023599408946,-4.0904430133692005,-4.2375706867969285,-4.385529071673459,-4.534260298822813,-4.6837049363170555,-4.833801988087341,-4.984488893288733,-5.13570152643462,-5.287374198316702,-5.439439657726236,-5.591829093992169,-5.744472140351856,-5.897296878169576,-6.05022984201832,-6.203196025639916,-6.3561188887984885,-6.508920365042124,-6.661520870387368,-6.8138393129410995,-6.965793103474055,-7.117298166960006,-7.268268955094648,-7.418618459807659,-7.568258227781525,-7.717098375990164,-7.865047608270325,-8.012013232938472,-8.15790118146537,-8.302616028220598,-8.446061011298713,-8.588138054438438,-8.728747790046176,-8.867789583334496,-9.005161557586064,-9.140760620553207,-9.274482492002639,-9.40622173241483,-9.535871772846814,-9.663324945967027,-9.788472518270229,-9.911204723480136,-10.031410797146986,-10.148979012446754,-10.263796717188319,-10.375750372034327,-10.484725589940973,-10.590607176821612,-10.693279173438254,-10.792624898524817,-10.888526993145161,-10.98086746628855,-11.069527741704599,-11.154388705979002,-11.235330757851028,-11.312233858772906,-11.384977584710672,-11.453441179185528,-11.517503607553927,-11.577043612524047,-11.631939770905692,-11.682070551589783,-11.727314374753146,-11.767549672283387,-11.802654949418073,-11.832508847591596,-11.856990208482431,-11.875978139252695,-11.889352078971191,-11.896991866210278,-11.898777807806217,-11.894590748771716,-11.884312143348748,-11.867824127188726,-11.845009590646422,-11.81575225317311,-11.779936738793609,-11.73744865265096,-11.68817465860172,-11.63200255784392,-11.568821368558766,-11.498521406546491,-11.420994366835597,-11.336133406244034,-11.243833226869834,-11.143990160487771,-11.036502253827864,-10.921269354710308,-10.798193199010791,-10.667177498429005,-10.528128029032182,-10.38095272054477,-10.225561746354057,-10.061867614200942,-9.889785257523672,-9.709232127421808,-9.520128285206487,-9.32239649550193,-9.115962319862533,-8.900754210868522,-8.676703606662398,-8.44374502588738,-8.201816162987846,-7.95085798383124,-7.6908148216093695,-7.421634472976462,-7.14326829438029,-6.8556712985413615,-6.558802251034709,-6.2526237669274884,-5.937102407424572]}},\"id\":\"32faf385-5834-4278-b280-4d27e4060053\",\"type\":\"ColumnDataSource\"},{\"attributes\":{},\"id\":\"65a907a9-da13-45a2-8d20-1d122c4edfe2\",\"type\":\"ToolEvents\"},{\"attributes\":{\"callback\":null},\"id\":\"ec8b4763-8429-488b-a9a3-5b756d4227e2\",\"type\":\"DataRange1d\"},{\"attributes\":{\"active_drag\":\"auto\",\"active_scroll\":\"auto\",\"active_tap\":\"auto\",\"tools\":[{\"id\":\"8d279050-0a6f-4b17-91ba-797e947ff251\",\"type\":\"PanTool\"},{\"id\":\"80bfcf66-aa31-4039-b6b5-aa261d0cb17b\",\"type\":\"WheelZoomTool\"},{\"id\":\"92e4f0dd-00f7-46c1-9e12-812b8170a343\",\"type\":\"BoxZoomTool\"},{\"id\":\"f0d859ed-5782-426f-b290-0a6454926597\",\"type\":\"SaveTool\"},{\"id\":\"abb9587b-faea-4255-8b74-a5fc15fe7109\",\"type\":\"ResetTool\"},{\"id\":\"b03ed3a7-ea2e-4c79-9cf7-7c1600e32cd7\",\"type\":\"HelpTool\"}]},\"id\":\"dee7f1f5-3826-4fb7-af5f-2255f9fdfc34\",\"type\":\"Toolbar\"},{\"attributes\":{\"callback\":null},\"id\":\"9374a183-ab41-4b00-bdfe-e9fd3cc9bc4a\",\"type\":\"DataRange1d\"},{\"attributes\":{\"formatter\":{\"id\":\"b2845451-efdf-417b-817d-5fc3d3aa5fcf\",\"type\":\"BasicTickFormatter\"},\"plot\":{\"id\":\"88b1ba65-773a-45f3-b170-fc3b8ee07320\",\"subtype\":\"Figure\",\"type\":\"Plot\"},\"ticker\":{\"id\":\"e27cc610-10d6-4735-bfa2-a448d985a0a8\",\"type\":\"BasicTicker\"}},\"id\":\"389d8b0f-ed11-4fcb-9600-448efd0bb162\",\"type\":\"LinearAxis\"},{\"attributes\":{},\"id\":\"e27cc610-10d6-4735-bfa2-a448d985a0a8\",\"type\":\"BasicTicker\"},{\"attributes\":{\"plot\":{\"id\":\"88b1ba65-773a-45f3-b170-fc3b8ee07320\",\"subtype\":\"Figure\",\"type\":\"Plot\"},\"ticker\":{\"id\":\"e27cc610-10d6-4735-bfa2-a448d985a0a8\",\"type\":\"BasicTicker\"}},\"id\":\"60bebd4a-37d5-49c5-b446-49519d5c4ab7\",\"type\":\"Grid\"},{\"attributes\":{\"formatter\":{\"id\":\"8b1066e6-e4e0-4c53-9648-13d8ed642161\",\"type\":\"BasicTickFormatter\"},\"plot\":{\"id\":\"88b1ba65-773a-45f3-b170-fc3b8ee07320\",\"subtype\":\"Figure\",\"type\":\"Plot\"},\"ticker\":{\"id\":\"9d74cdf9-f4b2-4b3c-be4a-cf97f4db6f4f\",\"type\":\"BasicTicker\"}},\"id\":\"bc6bd979-3edd-4484-8625-b1afac6e64d5\",\"type\":\"LinearAxis\"},{\"attributes\":{},\"id\":\"9d74cdf9-f4b2-4b3c-be4a-cf97f4db6f4f\",\"type\":\"BasicTicker\"},{\"attributes\":{\"dimension\":1,\"plot\":{\"id\":\"88b1ba65-773a-45f3-b170-fc3b8ee07320\",\"subtype\":\"Figure\",\"type\":\"Plot\"},\"ticker\":{\"id\":\"9d74cdf9-f4b2-4b3c-be4a-cf97f4db6f4f\",\"type\":\"BasicTicker\"}},\"id\":\"bc2c8ba2-11e7-4b20-8b83-b136de9949fe\",\"type\":\"Grid\"},{\"attributes\":{\"data_source\":{\"id\":\"32faf385-5834-4278-b280-4d27e4060053\",\"type\":\"ColumnDataSource\"},\"glyph\":{\"id\":\"5d7460c2-1ed0-4d14-befc-d5c307618155\",\"type\":\"Line\"},\"hover_glyph\":null,\"nonselection_glyph\":{\"id\":\"fb68843f-71bf-4060-af09-37be972a4ed5\",\"type\":\"Line\"},\"selection_glyph\":null},\"id\":\"b474370b-0f3d-4bcb-abc8-8cae68e99284\",\"type\":\"GlyphRenderer\"},{\"attributes\":{},\"id\":\"b2845451-efdf-417b-817d-5fc3d3aa5fcf\",\"type\":\"BasicTickFormatter\"},{\"attributes\":{\"bottom_units\":\"screen\",\"fill_alpha\":{\"value\":0.5},\"fill_color\":{\"value\":\"lightgrey\"},\"left_units\":\"screen\",\"level\":\"overlay\",\"line_alpha\":{\"value\":1.0},\"line_color\":{\"value\":\"black\"},\"line_dash\":[4,4],\"line_width\":{\"value\":2},\"plot\":null,\"render_mode\":\"css\",\"right_units\":\"screen\",\"top_units\":\"screen\"},\"id\":\"536e67fa-9771-40e9-83fd-98a0e9801400\",\"type\":\"BoxAnnotation\"},{\"attributes\":{\"plot\":{\"id\":\"88b1ba65-773a-45f3-b170-fc3b8ee07320\",\"subtype\":\"Figure\",\"type\":\"Plot\"}},\"id\":\"8d279050-0a6f-4b17-91ba-797e947ff251\",\"type\":\"PanTool\"},{\"attributes\":{\"plot\":{\"id\":\"88b1ba65-773a-45f3-b170-fc3b8ee07320\",\"subtype\":\"Figure\",\"type\":\"Plot\"}},\"id\":\"abb9587b-faea-4255-8b74-a5fc15fe7109\",\"type\":\"ResetTool\"},{\"attributes\":{\"line_alpha\":{\"value\":0.1},\"line_color\":{\"value\":\"#1f77b4\"},\"line_width\":{\"value\":2},\"x\":{\"field\":\"x\"},\"y\":{\"field\":\"y\"}},\"id\":\"fb68843f-71bf-4060-af09-37be972a4ed5\",\"type\":\"Line\"},{\"attributes\":{\"plot\":{\"id\":\"88b1ba65-773a-45f3-b170-fc3b8ee07320\",\"subtype\":\"Figure\",\"type\":\"Plot\"}},\"id\":\"80bfcf66-aa31-4039-b6b5-aa261d0cb17b\",\"type\":\"WheelZoomTool\"},{\"attributes\":{\"overlay\":{\"id\":\"536e67fa-9771-40e9-83fd-98a0e9801400\",\"type\":\"BoxAnnotation\"},\"plot\":{\"id\":\"88b1ba65-773a-45f3-b170-fc3b8ee07320\",\"subtype\":\"Figure\",\"type\":\"Plot\"}},\"id\":\"92e4f0dd-00f7-46c1-9e12-812b8170a343\",\"type\":\"BoxZoomTool\"},{\"attributes\":{\"plot\":{\"id\":\"88b1ba65-773a-45f3-b170-fc3b8ee07320\",\"subtype\":\"Figure\",\"type\":\"Plot\"}},\"id\":\"f0d859ed-5782-426f-b290-0a6454926597\",\"type\":\"SaveTool\"},{\"attributes\":{},\"id\":\"8b1066e6-e4e0-4c53-9648-13d8ed642161\",\"type\":\"BasicTickFormatter\"},{\"attributes\":{\"plot\":{\"id\":\"88b1ba65-773a-45f3-b170-fc3b8ee07320\",\"subtype\":\"Figure\",\"type\":\"Plot\"}},\"id\":\"b03ed3a7-ea2e-4c79-9cf7-7c1600e32cd7\",\"type\":\"HelpTool\"}],\"root_ids\":[\"88b1ba65-773a-45f3-b170-fc3b8ee07320\"]},\"title\":\"Bokeh Application\",\"version\":\"0.12.4\"}};\n",
       "            var render_items = [{\"docid\":\"22bfc82c-0f14-4474-8442-f36e5a3f4f96\",\"elementid\":\"91adb54c-11a0-417c-84db-14f0dece8e96\",\"modelid\":\"88b1ba65-773a-45f3-b170-fc3b8ee07320\"}];\n",
       "            \n",
       "            Bokeh.embed.embed_items(docs_json, render_items);\n",
       "          };\n",
       "          if (document.readyState != \"loading\") fn();\n",
       "          else document.addEventListener(\"DOMContentLoaded\", fn);\n",
       "        })();\n",
       "      },\n",
       "      function(Bokeh) {\n",
       "      }\n",
       "    ];\n",
       "  \n",
       "    function run_inline_js() {\n",
       "      \n",
       "      if ((window.Bokeh !== undefined) || (force === true)) {\n",
       "        for (var i = 0; i < inline_js.length; i++) {\n",
       "          inline_js[i](window.Bokeh);\n",
       "        }if (force === true) {\n",
       "          display_loaded();\n",
       "        }} else if (Date.now() < window._bokeh_timeout) {\n",
       "        setTimeout(run_inline_js, 100);\n",
       "      } else if (!window._bokeh_failed_load) {\n",
       "        console.log(\"Bokeh: BokehJS failed to load within specified timeout.\");\n",
       "        window._bokeh_failed_load = true;\n",
       "      } else if (force !== true) {\n",
       "        var cell = $(document.getElementById(\"91adb54c-11a0-417c-84db-14f0dece8e96\")).parents('.cell').data().cell;\n",
       "        cell.output_area.append_execute_result(NB_LOAD_WARNING)\n",
       "      }\n",
       "  \n",
       "    }\n",
       "  \n",
       "    if (window._bokeh_is_loading === 0) {\n",
       "      console.log(\"Bokeh: BokehJS loaded, going straight to plotting\");\n",
       "      run_inline_js();\n",
       "    } else {\n",
       "      load_libs(js_urls, function() {\n",
       "        console.log(\"Bokeh: BokehJS plotting callback run at\", now());\n",
       "        run_inline_js();\n",
       "      });\n",
       "    }\n",
       "  }(this));\n",
       "</script>"
      ]
     },
     "metadata": {},
     "output_type": "display_data"
    }
   ],
   "source": [
    "p = figure(plot_width=400, plot_height=400)\n",
    "p.line(x, y, line_width=2)\n",
    "show(p)"
   ]
  },
  {
   "cell_type": "code",
   "execution_count": 7,
   "metadata": {
    "collapsed": true,
    "deletable": true,
    "editable": true
   },
   "outputs": [],
   "source": [
    "minim = minimize(f, 2, method='BFGS')"
   ]
  },
  {
   "cell_type": "code",
   "execution_count": 8,
   "metadata": {
    "collapsed": false,
    "deletable": true,
    "editable": true
   },
   "outputs": [],
   "source": [
    "ans1 = str(round(minim.fun,3))"
   ]
  },
  {
   "cell_type": "code",
   "execution_count": 9,
   "metadata": {
    "collapsed": true,
    "deletable": true,
    "editable": true
   },
   "outputs": [],
   "source": [
    "minim = minimize(f, 30, method='BFGS')"
   ]
  },
  {
   "cell_type": "code",
   "execution_count": 10,
   "metadata": {
    "collapsed": true,
    "deletable": true,
    "editable": true
   },
   "outputs": [],
   "source": [
    "ans2 = str(round(minim.fun,3))"
   ]
  },
  {
   "cell_type": "code",
   "execution_count": 11,
   "metadata": {
    "collapsed": false,
    "deletable": true,
    "editable": true
   },
   "outputs": [],
   "source": [
    "with open('smooth_function_minimization.txt', 'w') as outFile:\n",
    "     outFile.write(ans1 + ' ' + ans2)"
   ]
  },
  {
   "cell_type": "code",
   "execution_count": null,
   "metadata": {
    "collapsed": true,
    "deletable": true,
    "editable": true
   },
   "outputs": [],
   "source": []
  }
 ],
 "metadata": {
  "kernelspec": {
   "display_name": "Python3 (ml)",
   "language": "python",
   "name": "ml"
  },
  "language_info": {
   "codemirror_mode": {
    "name": "ipython",
    "version": 3
   },
   "file_extension": ".py",
   "mimetype": "text/x-python",
   "name": "python",
   "nbconvert_exporter": "python",
   "pygments_lexer": "ipython3",
   "version": "3.6.0"
  }
 },
 "nbformat": 4,
 "nbformat_minor": 2
}
